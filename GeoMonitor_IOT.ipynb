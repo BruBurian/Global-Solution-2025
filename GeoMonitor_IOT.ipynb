{
  "nbformat": 4,
  "nbformat_minor": 0,
  "metadata": {
    "colab": {
      "provenance": []
    },
    "kernelspec": {
      "name": "python3",
      "display_name": "Python 3"
    },
    "language_info": {
      "name": "python"
    }
  },
  "cells": [
    {
      "cell_type": "markdown",
      "source": [
        " # Importação das bibliotecas necessárias para análise de dados, visualização e modelagem preditiva\n",
        "\n"
      ],
      "metadata": {
        "id": "PYMGjZGgP4he"
      }
    },
    {
      "cell_type": "code",
      "execution_count": null,
      "metadata": {
        "id": "kuDSkl67PfNS"
      },
      "outputs": [],
      "source": [
        "import pandas as pd\n",
        "import numpy as np\n",
        "import random\n",
        "import matplotlib.pyplot as plt\n",
        "import seaborn as sns\n",
        "from sklearn.preprocessing import LabelEncoder\n",
        "from sklearn.preprocessing import StandardScaler\n",
        "from sklearn.model_selection import train_test_split\n",
        "from sklearn.ensemble import RandomForestClassifier\n",
        "from sklearn.metrics import accuracy_score, classification_report"
      ]
    },
    {
      "cell_type": "markdown",
      "source": [
        "# Carregamento do dataset com informações sobre deslizamentos de terra"
      ],
      "metadata": {
        "id": "GD3QAe-uQCmK"
      }
    },
    {
      "cell_type": "code",
      "source": [
        "df = pd.read_csv('/content/landslide.csv')"
      ],
      "metadata": {
        "id": "AUnqg-RWQGlQ"
      },
      "execution_count": null,
      "outputs": []
    },
    {
      "cell_type": "markdown",
      "source": [
        "## Visualização inicial dos dados: primeiras linhas, estrutura geral e estatísticas descritivas"
      ],
      "metadata": {
        "id": "1x6yIsQvQLNE"
      }
    },
    {
      "cell_type": "code",
      "source": [
        "print(df.head())  # Exibe as primeiras linhas do dataset\n",
        "print(df.info())  # Exibe informações sobre as colunas (tipos de dados, valores não nulos)\n",
        "print(df.describe())  # Estatísticas descritivas das colunas numéricas"
      ],
      "metadata": {
        "colab": {
          "base_uri": "https://localhost:8080/"
        },
        "collapsed": true,
        "id": "p8B80vOxQNWn",
        "outputId": "abfac630-6f7f-4a63-9939-945795df310c"
      },
      "execution_count": null,
      "outputs": [
        {
          "output_type": "stream",
          "name": "stdout",
          "text": [
            "   id     date   time continent_code   country_name country_code  \\\n",
            "0  34   3/2/07  Night            NaN  United States           US   \n",
            "1  42  3/22/07    NaN            NaN  United States           US   \n",
            "2  56   4/6/07    NaN            NaN  United States           US   \n",
            "3  59  4/14/07    NaN            NaN         Canada           CA   \n",
            "4  61  4/15/07    NaN            NaN  United States           US   \n",
            "\n",
            "  state/province  population         city/town  distance  ...  \\\n",
            "0       Virginia       16000       Cherry Hill   3.40765  ...   \n",
            "1           Ohio       17288  New Philadelphia   3.33522  ...   \n",
            "2   Pennsylvania       15930       Wilkinsburg   2.91977  ...   \n",
            "3         Quebec       42786       Châteauguay   2.98682  ...   \n",
            "4       Kentucky        6903         Pikeville   5.66542  ...   \n",
            "\n",
            "                                 geolocation  hazard_type      landslide_type  \\\n",
            "0  (38.600900000000003, -77.268199999999993)    Landslide           Landslide   \n",
            "1  (40.517499999999998, -81.430499999999995)    Landslide           Landslide   \n",
            "2             (40.4377, -79.915999999999997)    Landslide           Landslide   \n",
            "3  (45.322600000000001, -73.777100000000004)    Landslide  Riverbank collapse   \n",
            "4  (37.432499999999997, -82.493099999999998)    Landslide           Landslide   \n",
            "\n",
            "  landslide_size   trigger storm_name injuries fatalities  \\\n",
            "0          Small      Rain        NaN      NaN        NaN   \n",
            "1          Small      Rain        NaN      NaN        NaN   \n",
            "2          Small      Rain        NaN      NaN        NaN   \n",
            "3          Small      Rain        NaN      NaN        NaN   \n",
            "4          Small  Downpour        NaN      NaN        0.0   \n",
            "\n",
            "                  source_name  \\\n",
            "0                  NBC 4 news   \n",
            "1              Canton Rep.com   \n",
            "2  The Pittsburgh Channel.com   \n",
            "3                   Le Soleil   \n",
            "4      Matthew Crawford (KGS)   \n",
            "\n",
            "                                         source_link  \n",
            "0      http://www.nbc4.com/news/11186871/detail.html  \n",
            "1  http://www.cantonrep.com/index.php?ID=345054&C...  \n",
            "2  https://web.archive.org/web/20080423132842/htt...  \n",
            "3  http://www.hebdos.net/lsc/edition162007/articl...  \n",
            "4                                                NaN  \n",
            "\n",
            "[5 rows x 23 columns]\n",
            "<class 'pandas.core.frame.DataFrame'>\n",
            "RangeIndex: 1693 entries, 0 to 1692\n",
            "Data columns (total 23 columns):\n",
            " #   Column                Non-Null Count  Dtype  \n",
            "---  ------                --------------  -----  \n",
            " 0   id                    1693 non-null   int64  \n",
            " 1   date                  1690 non-null   object \n",
            " 2   time                  629 non-null    object \n",
            " 3   continent_code        164 non-null    object \n",
            " 4   country_name          1693 non-null   object \n",
            " 5   country_code          1693 non-null   object \n",
            " 6   state/province        1692 non-null   object \n",
            " 7   population            1693 non-null   int64  \n",
            " 8   city/town             1689 non-null   object \n",
            " 9   distance              1692 non-null   float64\n",
            " 10  location_description  551 non-null    object \n",
            " 11  latitude              1692 non-null   float64\n",
            " 12  longitude             1692 non-null   float64\n",
            " 13  geolocation           1692 non-null   object \n",
            " 14  hazard_type           1693 non-null   object \n",
            " 15  landslide_type        1692 non-null   object \n",
            " 16  landslide_size        1692 non-null   object \n",
            " 17  trigger               1691 non-null   object \n",
            " 18  storm_name            132 non-null    object \n",
            " 19  injuries              515 non-null    float64\n",
            " 20  fatalities            1446 non-null   float64\n",
            " 21  source_name           872 non-null    object \n",
            " 22  source_link           1593 non-null   object \n",
            "dtypes: float64(5), int64(2), object(16)\n",
            "memory usage: 304.3+ KB\n",
            "None\n",
            "                id    population     distance     latitude    longitude  \\\n",
            "count  1693.000000  1.693000e+03  1692.000000  1692.000000  1692.000000   \n",
            "mean   4145.027761  9.345940e+04     7.822695    27.715661   -86.883660   \n",
            "std    2236.741960  5.226016e+05     9.358256    14.206341    14.332811   \n",
            "min      34.000000  0.000000e+00     0.000030   -10.125800  -117.309200   \n",
            "25%    2330.000000  2.080000e+03     1.936360    14.085650   -92.646625   \n",
            "50%    4087.000000  5.785000e+03     4.538635    35.613200   -83.653000   \n",
            "75%    6098.000000  1.886700e+04     9.873865    39.546400   -78.851325   \n",
            "max    7541.000000  1.229419e+07    74.460970    45.425700   -45.601000   \n",
            "\n",
            "         injuries   fatalities  \n",
            "count  515.000000  1446.000000  \n",
            "mean     0.526214     1.459198  \n",
            "std      3.427514     9.184653  \n",
            "min      0.000000     0.000000  \n",
            "25%      0.000000     0.000000  \n",
            "50%      0.000000     0.000000  \n",
            "75%      0.000000     0.000000  \n",
            "max     45.000000   280.000000  \n"
          ]
        }
      ]
    },
    {
      "cell_type": "markdown",
      "source": [
        "## Verificação da quantidade de valores ausentes por coluna"
      ],
      "metadata": {
        "id": "oF3C1B-_Qa2r"
      }
    },
    {
      "cell_type": "code",
      "source": [
        "print(df.isnull().sum())"
      ],
      "metadata": {
        "colab": {
          "base_uri": "https://localhost:8080/"
        },
        "collapsed": true,
        "id": "wHakT9-sQaJB",
        "outputId": "c1b2600d-1297-4d27-c349-1c449541bf11"
      },
      "execution_count": null,
      "outputs": [
        {
          "output_type": "stream",
          "name": "stdout",
          "text": [
            "id                         0\n",
            "date                       3\n",
            "time                    1064\n",
            "continent_code          1529\n",
            "country_name               0\n",
            "country_code               0\n",
            "state/province             1\n",
            "population                 0\n",
            "city/town                  4\n",
            "distance                   1\n",
            "location_description    1142\n",
            "latitude                   1\n",
            "longitude                  1\n",
            "geolocation                1\n",
            "hazard_type                0\n",
            "landslide_type             1\n",
            "landslide_size             1\n",
            "trigger                    2\n",
            "storm_name              1561\n",
            "injuries                1178\n",
            "fatalities               247\n",
            "source_name              821\n",
            "source_link              100\n",
            "dtype: int64\n"
          ]
        }
      ]
    },
    {
      "cell_type": "code",
      "source": [
        "# Remoção de linhas com valores nulos em colunas críticas para análise geoespacial e modelagem\n",
        "df.dropna(subset=['latitude', 'longitude', 'landslide_type', 'landslide_size'], how='any', inplace=True)"
      ],
      "metadata": {
        "id": "MFL_po1FQfwQ"
      },
      "execution_count": null,
      "outputs": []
    },
    {
      "cell_type": "code",
      "source": [
        "# Revalidação dos dados ausentes após limpeza parcial\n",
        "print(df.isnull().sum())"
      ],
      "metadata": {
        "colab": {
          "base_uri": "https://localhost:8080/"
        },
        "collapsed": true,
        "id": "YrWwJVobQhTO",
        "outputId": "9d8a28ee-4846-4d8f-afcd-f9f620d55cba"
      },
      "execution_count": null,
      "outputs": [
        {
          "output_type": "stream",
          "name": "stdout",
          "text": [
            "id                         0\n",
            "date                       3\n",
            "time                    1064\n",
            "continent_code          1527\n",
            "country_name               0\n",
            "country_code               0\n",
            "state/province             1\n",
            "population                 0\n",
            "city/town                  4\n",
            "distance                   0\n",
            "location_description    1141\n",
            "latitude                   0\n",
            "longitude                  0\n",
            "geolocation                0\n",
            "hazard_type                0\n",
            "landslide_type             0\n",
            "landslide_size             0\n",
            "trigger                    2\n",
            "storm_name              1559\n",
            "injuries                1177\n",
            "fatalities               247\n",
            "source_name              820\n",
            "source_link              100\n",
            "dtype: int64\n"
          ]
        }
      ]
    },
    {
      "cell_type": "code",
      "source": [
        "# Imputar os valores ausentes: Substituir por um valor estimado (média, mediana, moda, valor constante).\n",
        "df['injuries'] = df['injuries'].fillna(df['injuries'].mean())"
      ],
      "metadata": {
        "id": "eBzdrgsbQlyF"
      },
      "execution_count": null,
      "outputs": []
    },
    {
      "cell_type": "markdown",
      "source": [
        "## Preenchimento dos valores ausentes na coluna 'injuries' com a média (imputação simples):\n",
        "\n"
      ],
      "metadata": {
        "id": "lseT-WX-UjK2"
      }
    },
    {
      "cell_type": "code",
      "source": [
        "# Conversão da coluna 'date' para o tipo datetime, tratando formatos inválidos\n",
        "df['date'] = pd.to_datetime(df['date'], errors='coerce')  # errors='coerce' lida com formatos inválidos"
      ],
      "metadata": {
        "colab": {
          "base_uri": "https://localhost:8080/"
        },
        "collapsed": true,
        "id": "g9PwI-wER6Ji",
        "outputId": "3a798582-7c82-4be3-d328-ede220e09fc5"
      },
      "execution_count": null,
      "outputs": [
        {
          "output_type": "stream",
          "name": "stderr",
          "text": [
            "<ipython-input-24-6269448f6cf6>:2: UserWarning: Could not infer format, so each element will be parsed individually, falling back to `dateutil`. To ensure parsing is consistent and as-expected, please specify a format.\n",
            "  df['date'] = pd.to_datetime(df['date'], errors='coerce')  # errors='coerce' lida com formatos inválidos\n"
          ]
        }
      ]
    },
    {
      "cell_type": "code",
      "source": [
        "# Conversão da coluna 'population' para tipo numérico, tratando erros de conversão\n",
        "df['population'] = pd.to_numeric(df['population'], errors='coerce')"
      ],
      "metadata": {
        "id": "s1sroY8vUsGw"
      },
      "execution_count": null,
      "outputs": []
    },
    {
      "cell_type": "markdown",
      "source": [
        "# Análise Exploratória (Visualização)"
      ],
      "metadata": {
        "id": "E9tPJtFzUv5g"
      }
    },
    {
      "cell_type": "code",
      "source": [
        "df['landslide_size'].value_counts().plot(kind='bar')  # Distribuição do tamanho dos deslizamentos\n",
        "plt.show()\n",
        "\n",
        "sns.histplot(df['fatalities'])  # Histograma do número de fatalidades\n",
        "plt.show()"
      ],
      "metadata": {
        "colab": {
          "base_uri": "https://localhost:8080/",
          "height": 942
        },
        "collapsed": true,
        "id": "6jTxW0-QUw-o",
        "outputId": "14d248db-1eda-4e9d-cdf3-5cbd6b08ebed"
      },
      "execution_count": null,
      "outputs": [
        {
          "output_type": "display_data",
          "data": {
            "text/plain": [
              "<Figure size 640x480 with 1 Axes>"
            ],
            "image/png": "[encoded data removed]"
          },
          "metadata": {}
        },
        {
          "output_type": "display_data",
          "data": {
            "text/plain": [
              "<Figure size 640x480 with 1 Axes>"
            ],
            "image/png": "[encoded data removed]"
          },
          "metadata": {}
        }
      ]
    },
    {
      "cell_type": "markdown",
      "source": [
        "## Imputar Valores Ausentes nas Colunas Restantes"
      ],
      "metadata": {
        "id": "g21VrBusWv9X"
      }
    },
    {
      "cell_type": "code",
      "source": [
        "# Imputar a mediana para valores ausentes na coluna 'population'\n",
        "df['population'] = df['population'].fillna(df['population'].median())\n",
        "\n",
        "# Imputar 0 para valores ausentes na coluna 'fatalities'\n",
        "df['fatalities'] = df['fatalities'].fillna(0)\n",
        "\n",
        "# Imputar a mediana para valores ausentes na coluna 'distance'\n",
        "df['distance'] = pd.to_numeric(df['distance'], errors='coerce') #Converter para numerico antes de imputar\n",
        "df['distance'] = df['distance'].fillna(df['distance'].median())\n",
        "\n",
        "# Imputar valores ausentes na coluna 'trigger' com a moda\n",
        "df['trigger'] = df['trigger'].fillna(df['trigger'].mode()[0])\n",
        "\n",
        "# Preencher valores ausentes em colunas de texto com 'Unknown'\n",
        "df['location_description'] = df['location_description'].fillna('Unknown')\n",
        "df['storm_name'] = df['storm_name'].fillna('Unknown')\n",
        "df['source_name'] = df['source_name'].fillna('Unknown')"
      ],
      "metadata": {
        "id": "atWM1iN7Wzvp"
      },
      "execution_count": null,
      "outputs": []
    },
    {
      "cell_type": "code",
      "source": [
        "label_encoder = LabelEncoder()\n",
        "df['landslide_type'] = label_encoder.fit_transform(df['landslide_type'])\n",
        "df['trigger'] = label_encoder.fit_transform(df['trigger'])\n",
        "df['location_description'] = label_encoder.fit_transform(df['location_description'])\n",
        "df['storm_name'] = label_encoder.fit_transform(df['storm_name'])\n",
        "df['source_name'] = label_encoder.fit_transform(df['source_name'])\n",
        "df['continent_code'] = label_encoder.fit_transform(df['continent_code'])\n",
        "df['country_name'] = label_encoder.fit_transform(df['country_name'])\n",
        "df['country_code'] = label_encoder.fit_transform(df['country_code'])\n",
        "df['state/province'] = label_encoder.fit_transform(df['state/province'])\n",
        "df['city/town'] = label_encoder.fit_transform(df['city/town'])"
      ],
      "metadata": {
        "id": "nHs_KJIUW1Z5"
      },
      "execution_count": null,
      "outputs": []
    },
    {
      "cell_type": "code",
      "source": [
        "features = ['latitude', 'longitude', 'population', 'landslide_type', 'trigger', 'distance', 'continent_code', 'country_code', 'state/province', 'city/town']  # Adicione mais features se desejar\n",
        "alvo = 'landslide_size'"
      ],
      "metadata": {
        "id": "TrxITv58XAGA"
      },
      "execution_count": null,
      "outputs": []
    },
    {
      "cell_type": "code",
      "source": [
        "df['landslide_size'] = label_encoder.fit_transform(df['landslide_size'])"
      ],
      "metadata": {
        "id": "XU_hW2sXXCMo"
      },
      "execution_count": null,
      "outputs": []
    },
    {
      "cell_type": "code",
      "source": [
        "X = df[features]\n",
        "y = df[alvo]\n",
        "\n",
        "X_train, X_test, y_train, y_test = train_test_split(X, y, test_size=0.2, random_state=42)"
      ],
      "metadata": {
        "id": "FeIP8rrJXIK4"
      },
      "execution_count": null,
      "outputs": []
    },
    {
      "cell_type": "code",
      "source": [
        "scaler = StandardScaler()\n",
        "X_train = scaler.fit_transform(X_train)\n",
        "X_test = scaler.transform(X_test)"
      ],
      "metadata": {
        "id": "QTpsT86kXIuO"
      },
      "execution_count": null,
      "outputs": []
    },
    {
      "cell_type": "code",
      "source": [
        "model = RandomForestClassifier(n_estimators=100, random_state=42)\n",
        "model.fit(X_train, y_train)"
      ],
      "metadata": {
        "colab": {
          "base_uri": "https://localhost:8080/",
          "height": 80
        },
        "id": "cAzdtwWiXRkg",
        "outputId": "72165562-d287-4c1c-d357-3584ca7fe7ce"
      },
      "execution_count": null,
      "outputs": [
        {
          "output_type": "execute_result",
          "data": {
            "text/plain": [
              "RandomForestClassifier(random_state=42)"
            ],
            "text/html": [
              "<style>#sk-container-id-1 {\n",
              "  /* Definition of color scheme common for light and dark mode */\n",
              "  --sklearn-color-text: #000;\n",
              "  --sklearn-color-text-muted: #666;\n",
              "  --sklearn-color-line: gray;\n",
              "  /* Definition of color scheme for unfitted estimators */\n",
              "  --sklearn-color-unfitted-level-0: #fff5e6;\n",
              "  --sklearn-color-unfitted-level-1: #f6e4d2;\n",
              "  --sklearn-color-unfitted-level-2: #ffe0b3;\n",
              "  --sklearn-color-unfitted-level-3: chocolate;\n",
              "  /* Definition of color scheme for fitted estimators */\n",
              "  --sklearn-color-fitted-level-0: #f0f8ff;\n",
              "  --sklearn-color-fitted-level-1: #d4ebff;\n",
              "  --sklearn-color-fitted-level-2: #b3dbfd;\n",
              "  --sklearn-color-fitted-level-3: cornflowerblue;\n",
              "\n",
              "  /* Specific color for light theme */\n",
              "  --sklearn-color-text-on-default-background: var(--sg-text-color, var(--theme-code-foreground, var(--jp-content-font-color1, black)));\n",
              "  --sklearn-color-background: var(--sg-background-color, var(--theme-background, var(--jp-layout-color0, white)));\n",
              "  --sklearn-color-border-box: var(--sg-text-color, var(--theme-code-foreground, var(--jp-content-font-color1, black)));\n",
              "  --sklearn-color-icon: #696969;\n",
              "\n",
              "  @media (prefers-color-scheme: dark) {\n",
              "    /* Redefinition of color scheme for dark theme */\n",
              "    --sklearn-color-text-on-default-background: var(--sg-text-color, var(--theme-code-foreground, var(--jp-content-font-color1, white)));\n",
              "    --sklearn-color-background: var(--sg-background-color, var(--theme-background, var(--jp-layout-color0, #111)));\n",
              "    --sklearn-color-border-box: var(--sg-text-color, var(--theme-code-foreground, var(--jp-content-font-color1, white)));\n",
              "    --sklearn-color-icon: #878787;\n",
              "  }\n",
              "}\n",
              "\n",
              "#sk-container-id-1 {\n",
              "  color: var(--sklearn-color-text);\n",
              "}\n",
              "\n",
              "#sk-container-id-1 pre {\n",
              "  padding: 0;\n",
              "}\n",
              "\n",
              "#sk-container-id-1 input.sk-hidden--visually {\n",
              "  border: 0;\n",
              "  clip: rect(1px 1px 1px 1px);\n",
              "  clip: rect(1px, 1px, 1px, 1px);\n",
              "  height: 1px;\n",
              "  margin: -1px;\n",
              "  overflow: hidden;\n",
              "  padding: 0;\n",
              "  position: absolute;\n",
              "  width: 1px;\n",
              "}\n",
              "\n",
              "#sk-container-id-1 div.sk-dashed-wrapped {\n",
              "  border: 1px dashed var(--sklearn-color-line);\n",
              "  margin: 0 0.4em 0.5em 0.4em;\n",
              "  box-sizing: border-box;\n",
              "  padding-bottom: 0.4em;\n",
              "  background-color: var(--sklearn-color-background);\n",
              "}\n",
              "\n",
              "#sk-container-id-1 div.sk-container {\n",
              "  /* jupyter's `normalize.less` sets `[hidden] { display: none; }`\n",
              "     but bootstrap.min.css set `[hidden] { display: none !important; }`\n",
              "     so we also need the `!important` here to be able to override the\n",
              "     default hidden behavior on the sphinx rendered scikit-learn.org.\n",
              "     See: https://github.com/scikit-learn/scikit-learn/issues/21755 */\n",
              "  display: inline-block !important;\n",
              "  position: relative;\n",
              "}\n",
              "\n",
              "#sk-container-id-1 div.sk-text-repr-fallback {\n",
              "  display: none;\n",
              "}\n",
              "\n",
              "div.sk-parallel-item,\n",
              "div.sk-serial,\n",
              "div.sk-item {\n",
              "  /* draw centered vertical line to link estimators */\n",
              "  background-image: linear-gradient(var(--sklearn-color-text-on-default-background), var(--sklearn-color-text-on-default-background));\n",
              "  background-size: 2px 100%;\n",
              "  background-repeat: no-repeat;\n",
              "  background-position: center center;\n",
              "}\n",
              "\n",
              "/* Parallel-specific style estimator block */\n",
              "\n",
              "#sk-container-id-1 div.sk-parallel-item::after {\n",
              "  content: \"\";\n",
              "  width: 100%;\n",
              "  border-bottom: 2px solid var(--sklearn-color-text-on-default-background);\n",
              "  flex-grow: 1;\n",
              "}\n",
              "\n",
              "#sk-container-id-1 div.sk-parallel {\n",
              "  display: flex;\n",
              "  align-items: stretch;\n",
              "  justify-content: center;\n",
              "  background-color: var(--sklearn-color-background);\n",
              "  position: relative;\n",
              "}\n",
              "\n",
              "#sk-container-id-1 div.sk-parallel-item {\n",
              "  display: flex;\n",
              "  flex-direction: column;\n",
              "}\n",
              "\n",
              "#sk-container-id-1 div.sk-parallel-item:first-child::after {\n",
              "  align-self: flex-end;\n",
              "  width: 50%;\n",
              "}\n",
              "\n",
              "#sk-container-id-1 div.sk-parallel-item:last-child::after {\n",
              "  align-self: flex-start;\n",
              "  width: 50%;\n",
              "}\n",
              "\n",
              "#sk-container-id-1 div.sk-parallel-item:only-child::after {\n",
              "  width: 0;\n",
              "}\n",
              "\n",
              "/* Serial-specific style estimator block */\n",
              "\n",
              "#sk-container-id-1 div.sk-serial {\n",
              "  display: flex;\n",
              "  flex-direction: column;\n",
              "  align-items: center;\n",
              "  background-color: var(--sklearn-color-background);\n",
              "  padding-right: 1em;\n",
              "  padding-left: 1em;\n",
              "}\n",
              "\n",
              "\n",
              "/* Toggleable style: style used for estimator/Pipeline/ColumnTransformer box that is\n",
              "clickable and can be expanded/collapsed.\n",
              "- Pipeline and ColumnTransformer use this feature and define the default style\n",
              "- Estimators will overwrite some part of the style using the `sk-estimator` class\n",
              "*/\n",
              "\n",
              "/* Pipeline and ColumnTransformer style (default) */\n",
              "\n",
              "#sk-container-id-1 div.sk-toggleable {\n",
              "  /* Default theme specific background. It is overwritten whether we have a\n",
              "  specific estimator or a Pipeline/ColumnTransformer */\n",
              "  background-color: var(--sklearn-color-background);\n",
              "}\n",
              "\n",
              "/* Toggleable label */\n",
              "#sk-container-id-1 label.sk-toggleable__label {\n",
              "  cursor: pointer;\n",
              "  display: flex;\n",
              "  width: 100%;\n",
              "  margin-bottom: 0;\n",
              "  padding: 0.5em;\n",
              "  box-sizing: border-box;\n",
              "  text-align: center;\n",
              "  align-items: start;\n",
              "  justify-content: space-between;\n",
              "  gap: 0.5em;\n",
              "}\n",
              "\n",
              "#sk-container-id-1 label.sk-toggleable__label .caption {\n",
              "  font-size: 0.6rem;\n",
              "  font-weight: lighter;\n",
              "  color: var(--sklearn-color-text-muted);\n",
              "}\n",
              "\n",
              "#sk-container-id-1 label.sk-toggleable__label-arrow:before {\n",
              "  /* Arrow on the left of the label */\n",
              "  content: \"▸\";\n",
              "  float: left;\n",
              "  margin-right: 0.25em;\n",
              "  color: var(--sklearn-color-icon);\n",
              "}\n",
              "\n",
              "#sk-container-id-1 label.sk-toggleable__label-arrow:hover:before {\n",
              "  color: var(--sklearn-color-text);\n",
              "}\n",
              "\n",
              "/* Toggleable content - dropdown */\n",
              "\n",
              "#sk-container-id-1 div.sk-toggleable__content {\n",
              "  max-height: 0;\n",
              "  max-width: 0;\n",
              "  overflow: hidden;\n",
              "  text-align: left;\n",
              "  /* unfitted */\n",
              "  background-color: var(--sklearn-color-unfitted-level-0);\n",
              "}\n",
              "\n",
              "#sk-container-id-1 div.sk-toggleable__content.fitted {\n",
              "  /* fitted */\n",
              "  background-color: var(--sklearn-color-fitted-level-0);\n",
              "}\n",
              "\n",
              "#sk-container-id-1 div.sk-toggleable__content pre {\n",
              "  margin: 0.2em;\n",
              "  border-radius: 0.25em;\n",
              "  color: var(--sklearn-color-text);\n",
              "  /* unfitted */\n",
              "  background-color: var(--sklearn-color-unfitted-level-0);\n",
              "}\n",
              "\n",
              "#sk-container-id-1 div.sk-toggleable__content.fitted pre {\n",
              "  /* unfitted */\n",
              "  background-color: var(--sklearn-color-fitted-level-0);\n",
              "}\n",
              "\n",
              "#sk-container-id-1 input.sk-toggleable__control:checked~div.sk-toggleable__content {\n",
              "  /* Expand drop-down */\n",
              "  max-height: 200px;\n",
              "  max-width: 100%;\n",
              "  overflow: auto;\n",
              "}\n",
              "\n",
              "#sk-container-id-1 input.sk-toggleable__control:checked~label.sk-toggleable__label-arrow:before {\n",
              "  content: \"▾\";\n",
              "}\n",
              "\n",
              "/* Pipeline/ColumnTransformer-specific style */\n",
              "\n",
              "#sk-container-id-1 div.sk-label input.sk-toggleable__control:checked~label.sk-toggleable__label {\n",
              "  color: var(--sklearn-color-text);\n",
              "  background-color: var(--sklearn-color-unfitted-level-2);\n",
              "}\n",
              "\n",
              "#sk-container-id-1 div.sk-label.fitted input.sk-toggleable__control:checked~label.sk-toggleable__label {\n",
              "  background-color: var(--sklearn-color-fitted-level-2);\n",
              "}\n",
              "\n",
              "/* Estimator-specific style */\n",
              "\n",
              "/* Colorize estimator box */\n",
              "#sk-container-id-1 div.sk-estimator input.sk-toggleable__control:checked~label.sk-toggleable__label {\n",
              "  /* unfitted */\n",
              "  background-color: var(--sklearn-color-unfitted-level-2);\n",
              "}\n",
              "\n",
              "#sk-container-id-1 div.sk-estimator.fitted input.sk-toggleable__control:checked~label.sk-toggleable__label {\n",
              "  /* fitted */\n",
              "  background-color: var(--sklearn-color-fitted-level-2);\n",
              "}\n",
              "\n",
              "#sk-container-id-1 div.sk-label label.sk-toggleable__label,\n",
              "#sk-container-id-1 div.sk-label label {\n",
              "  /* The background is the default theme color */\n",
              "  color: var(--sklearn-color-text-on-default-background);\n",
              "}\n",
              "\n",
              "/* On hover, darken the color of the background */\n",
              "#sk-container-id-1 div.sk-label:hover label.sk-toggleable__label {\n",
              "  color: var(--sklearn-color-text);\n",
              "  background-color: var(--sklearn-color-unfitted-level-2);\n",
              "}\n",
              "\n",
              "/* Label box, darken color on hover, fitted */\n",
              "#sk-container-id-1 div.sk-label.fitted:hover label.sk-toggleable__label.fitted {\n",
              "  color: var(--sklearn-color-text);\n",
              "  background-color: var(--sklearn-color-fitted-level-2);\n",
              "}\n",
              "\n",
              "/* Estimator label */\n",
              "\n",
              "#sk-container-id-1 div.sk-label label {\n",
              "  font-family: monospace;\n",
              "  font-weight: bold;\n",
              "  display: inline-block;\n",
              "  line-height: 1.2em;\n",
              "}\n",
              "\n",
              "#sk-container-id-1 div.sk-label-container {\n",
              "  text-align: center;\n",
              "}\n",
              "\n",
              "/* Estimator-specific */\n",
              "#sk-container-id-1 div.sk-estimator {\n",
              "  font-family: monospace;\n",
              "  border: 1px dotted var(--sklearn-color-border-box);\n",
              "  border-radius: 0.25em;\n",
              "  box-sizing: border-box;\n",
              "  margin-bottom: 0.5em;\n",
              "  /* unfitted */\n",
              "  background-color: var(--sklearn-color-unfitted-level-0);\n",
              "}\n",
              "\n",
              "#sk-container-id-1 div.sk-estimator.fitted {\n",
              "  /* fitted */\n",
              "  background-color: var(--sklearn-color-fitted-level-0);\n",
              "}\n",
              "\n",
              "/* on hover */\n",
              "#sk-container-id-1 div.sk-estimator:hover {\n",
              "  /* unfitted */\n",
              "  background-color: var(--sklearn-color-unfitted-level-2);\n",
              "}\n",
              "\n",
              "#sk-container-id-1 div.sk-estimator.fitted:hover {\n",
              "  /* fitted */\n",
              "  background-color: var(--sklearn-color-fitted-level-2);\n",
              "}\n",
              "\n",
              "/* Specification for estimator info (e.g. \"i\" and \"?\") */\n",
              "\n",
              "/* Common style for \"i\" and \"?\" */\n",
              "\n",
              ".sk-estimator-doc-link,\n",
              "a:link.sk-estimator-doc-link,\n",
              "a:visited.sk-estimator-doc-link {\n",
              "  float: right;\n",
              "  font-size: smaller;\n",
              "  line-height: 1em;\n",
              "  font-family: monospace;\n",
              "  background-color: var(--sklearn-color-background);\n",
              "  border-radius: 1em;\n",
              "  height: 1em;\n",
              "  width: 1em;\n",
              "  text-decoration: none !important;\n",
              "  margin-left: 0.5em;\n",
              "  text-align: center;\n",
              "  /* unfitted */\n",
              "  border: var(--sklearn-color-unfitted-level-1) 1pt solid;\n",
              "  color: var(--sklearn-color-unfitted-level-1);\n",
              "}\n",
              "\n",
              ".sk-estimator-doc-link.fitted,\n",
              "a:link.sk-estimator-doc-link.fitted,\n",
              "a:visited.sk-estimator-doc-link.fitted {\n",
              "  /* fitted */\n",
              "  border: var(--sklearn-color-fitted-level-1) 1pt solid;\n",
              "  color: var(--sklearn-color-fitted-level-1);\n",
              "}\n",
              "\n",
              "/* On hover */\n",
              "div.sk-estimator:hover .sk-estimator-doc-link:hover,\n",
              ".sk-estimator-doc-link:hover,\n",
              "div.sk-label-container:hover .sk-estimator-doc-link:hover,\n",
              ".sk-estimator-doc-link:hover {\n",
              "  /* unfitted */\n",
              "  background-color: var(--sklearn-color-unfitted-level-3);\n",
              "  color: var(--sklearn-color-background);\n",
              "  text-decoration: none;\n",
              "}\n",
              "\n",
              "div.sk-estimator.fitted:hover .sk-estimator-doc-link.fitted:hover,\n",
              ".sk-estimator-doc-link.fitted:hover,\n",
              "div.sk-label-container:hover .sk-estimator-doc-link.fitted:hover,\n",
              ".sk-estimator-doc-link.fitted:hover {\n",
              "  /* fitted */\n",
              "  background-color: var(--sklearn-color-fitted-level-3);\n",
              "  color: var(--sklearn-color-background);\n",
              "  text-decoration: none;\n",
              "}\n",
              "\n",
              "/* Span, style for the box shown on hovering the info icon */\n",
              ".sk-estimator-doc-link span {\n",
              "  display: none;\n",
              "  z-index: 9999;\n",
              "  position: relative;\n",
              "  font-weight: normal;\n",
              "  right: .2ex;\n",
              "  padding: .5ex;\n",
              "  margin: .5ex;\n",
              "  width: min-content;\n",
              "  min-width: 20ex;\n",
              "  max-width: 50ex;\n",
              "  color: var(--sklearn-color-text);\n",
              "  box-shadow: 2pt 2pt 4pt #999;\n",
              "  /* unfitted */\n",
              "  background: var(--sklearn-color-unfitted-level-0);\n",
              "  border: .5pt solid var(--sklearn-color-unfitted-level-3);\n",
              "}\n",
              "\n",
              ".sk-estimator-doc-link.fitted span {\n",
              "  /* fitted */\n",
              "  background: var(--sklearn-color-fitted-level-0);\n",
              "  border: var(--sklearn-color-fitted-level-3);\n",
              "}\n",
              "\n",
              ".sk-estimator-doc-link:hover span {\n",
              "  display: block;\n",
              "}\n",
              "\n",
              "/* \"?\"-specific style due to the `<a>` HTML tag */\n",
              "\n",
              "#sk-container-id-1 a.estimator_doc_link {\n",
              "  float: right;\n",
              "  font-size: 1rem;\n",
              "  line-height: 1em;\n",
              "  font-family: monospace;\n",
              "  background-color: var(--sklearn-color-background);\n",
              "  border-radius: 1rem;\n",
              "  height: 1rem;\n",
              "  width: 1rem;\n",
              "  text-decoration: none;\n",
              "  /* unfitted */\n",
              "  color: var(--sklearn-color-unfitted-level-1);\n",
              "  border: var(--sklearn-color-unfitted-level-1) 1pt solid;\n",
              "}\n",
              "\n",
              "#sk-container-id-1 a.estimator_doc_link.fitted {\n",
              "  /* fitted */\n",
              "  border: var(--sklearn-color-fitted-level-1) 1pt solid;\n",
              "  color: var(--sklearn-color-fitted-level-1);\n",
              "}\n",
              "\n",
              "/* On hover */\n",
              "#sk-container-id-1 a.estimator_doc_link:hover {\n",
              "  /* unfitted */\n",
              "  background-color: var(--sklearn-color-unfitted-level-3);\n",
              "  color: var(--sklearn-color-background);\n",
              "  text-decoration: none;\n",
              "}\n",
              "\n",
              "#sk-container-id-1 a.estimator_doc_link.fitted:hover {\n",
              "  /* fitted */\n",
              "  background-color: var(--sklearn-color-fitted-level-3);\n",
              "}\n",
              "</style><div id=\"sk-container-id-1\" class=\"sk-top-container\"><div class=\"sk-text-repr-fallback\"><pre>RandomForestClassifier(random_state=42)</pre><b>In a Jupyter environment, please rerun this cell to show the HTML representation or trust the notebook. <br />On GitHub, the HTML representation is unable to render, please try loading this page with nbviewer.org.</b></div><div class=\"sk-container\" hidden><div class=\"sk-item\"><div class=\"sk-estimator fitted sk-toggleable\"><input class=\"sk-toggleable__control sk-hidden--visually\" id=\"sk-estimator-id-1\" type=\"checkbox\" checked><label for=\"sk-estimator-id-1\" class=\"sk-toggleable__label fitted sk-toggleable__label-arrow\"><div><div>RandomForestClassifier</div></div><div><a class=\"sk-estimator-doc-link fitted\" rel=\"noreferrer\" target=\"_blank\" href=\"https://scikit-learn.org/1.6/modules/generated/sklearn.ensemble.RandomForestClassifier.html\">?<span>Documentation for RandomForestClassifier</span></a><span class=\"sk-estimator-doc-link fitted\">i<span>Fitted</span></span></div></label><div class=\"sk-toggleable__content fitted\"><pre>RandomForestClassifier(random_state=42)</pre></div> </div></div></div></div>"
            ]
          },
          "metadata": {},
          "execution_count": 37
        }
      ]
    },
    {
      "cell_type": "code",
      "source": [
        "y_pred = model.predict(X_test)\n",
        "accuracy = accuracy_score(y_test, y_pred)\n",
        "print(f\"Acurácia do modelo: {accuracy}\")\n",
        "print(classification_report(y_test, y_pred))"
      ],
      "metadata": {
        "colab": {
          "base_uri": "https://localhost:8080/"
        },
        "id": "THftQx1vXaDr",
        "outputId": "34367310-7588-4fbd-b084-75ac0cb3e514"
      },
      "execution_count": null,
      "outputs": [
        {
          "output_type": "stream",
          "name": "stdout",
          "text": [
            "Acurácia do modelo: 0.6194690265486725\n",
            "              precision    recall  f1-score   support\n",
            "\n",
            "           0       0.33      0.08      0.13        12\n",
            "           1       0.69      0.71      0.70       209\n",
            "           2       0.50      0.54      0.52       112\n",
            "           3       0.00      0.00      0.00         3\n",
            "           5       0.00      0.00      0.00         1\n",
            "           6       0.00      0.00      0.00         2\n",
            "\n",
            "    accuracy                           0.62       339\n",
            "   macro avg       0.25      0.22      0.23       339\n",
            "weighted avg       0.60      0.62      0.61       339\n",
            "\n"
          ]
        },
        {
          "output_type": "stream",
          "name": "stderr",
          "text": [
            "/usr/local/lib/python3.11/dist-packages/sklearn/metrics/_classification.py:1565: UndefinedMetricWarning: Precision is ill-defined and being set to 0.0 in labels with no predicted samples. Use `zero_division` parameter to control this behavior.\n",
            "  _warn_prf(average, modifier, f\"{metric.capitalize()} is\", len(result))\n",
            "/usr/local/lib/python3.11/dist-packages/sklearn/metrics/_classification.py:1565: UndefinedMetricWarning: Precision is ill-defined and being set to 0.0 in labels with no predicted samples. Use `zero_division` parameter to control this behavior.\n",
            "  _warn_prf(average, modifier, f\"{metric.capitalize()} is\", len(result))\n",
            "/usr/local/lib/python3.11/dist-packages/sklearn/metrics/_classification.py:1565: UndefinedMetricWarning: Precision is ill-defined and being set to 0.0 in labels with no predicted samples. Use `zero_division` parameter to control this behavior.\n",
            "  _warn_prf(average, modifier, f\"{metric.capitalize()} is\", len(result))\n"
          ]
        }
      ]
    },
    {
      "cell_type": "markdown",
      "source": [
        "# Simular Dados de Sensores"
      ],
      "metadata": {
        "id": "YOF4UAIejyip"
      }
    },
    {
      "cell_type": "code",
      "source": [
        "import random\n",
        "\n",
        "def gerar_dados_sensores(cenario):\n",
        "    \"\"\"Gera dados de sensores simulados com base no cenário.\"\"\"\n",
        "    if cenario == \"Baixo Risco\":\n",
        "        precipitacao = random.uniform(0, 5)  # mm/dia\n",
        "        umidade_solo = random.uniform(0.2, 0.5) # 0 a 1\n",
        "        inclinacao = random.uniform(0, 10)  # graus\n",
        "    elif cenario == \"Médio Risco\":\n",
        "        precipitacao = random.uniform(10, 20)\n",
        "        umidade_solo = random.uniform(0.6, 0.8)\n",
        "        inclinacao = random.uniform(15, 25)\n",
        "    else:  # Alto Risco\n",
        "        precipitacao = random.uniform(30, 50)\n",
        "        umidade_solo = random.uniform(0.9, 1.0)\n",
        "        inclinacao = random.uniform(30, 45)\n",
        "\n",
        "    # Retornar os dados em formato de dicionário\n",
        "    return {\"precipitacao\": precipitacao, \"umidade_solo\": umidade_solo, \"inclinacao\": inclinacao}"
      ],
      "metadata": {
        "id": "-9sETaOujyBz"
      },
      "execution_count": null,
      "outputs": []
    },
    {
      "cell_type": "code",
      "source": [
        "df['precipitacao'] = 0.0  # Inicializa com valores padrão\n",
        "df['umidade_solo'] = 0.0\n",
        "df['inclinacao'] = 0.0\n",
        "\n",
        "def aplicar_cenario(row):\n",
        "    \"\"\"Aplica um cenário aleatório a cada linha do DataFrame (simulação).\"\"\"\n",
        "    cenarios = [\"Baixo Risco\", \"Médio Risco\", \"Alto Risco\"]\n",
        "    cenario_escolhido = random.choice(cenarios)\n",
        "    dados_sensores = gerar_dados_sensores(cenario_escolhido)\n",
        "    row['precipitacao'] = dados_sensores['precipitacao']\n",
        "    row['umidade_solo'] = dados_sensores['umidade_solo']\n",
        "    row['inclinacao'] = dados_sensores['inclinacao']\n",
        "    return row\n",
        "\n",
        "# Aplica a simulação a cada linha do DataFrame\n",
        "df = df.apply(aplicar_cenario, axis=1)"
      ],
      "metadata": {
        "id": "A0E8OoWtkIGJ"
      },
      "execution_count": null,
      "outputs": []
    },
    {
      "cell_type": "code",
      "source": [
        "def simular_gateway(cenario):\n",
        "    \"\"\"Simula um gateway que recebe dados dos sensores e envia para o modelo.\"\"\"\n",
        "    dados_sensores = gerar_dados_sensores(cenario)\n",
        "\n",
        "    # Pré-processar os dados (ex: normalizar, converter unidades)\n",
        "    # ...\n",
        "\n",
        "    # Enviar os dados para o modelo\n",
        "    # (Nesta simulação, vamos apenas imprimir os dados e a previsão)\n",
        "    print(f\"Dados recebidos do sensor: {dados_sensores}\")\n",
        "\n",
        "    # Criar um DataFrame com os dados para o modelo\n",
        "    df_temp = pd.DataFrame([dados_sensores])\n",
        "\n",
        "    # Adicionar as colunas faltantes com valores padrão\n",
        "    df_temp['latitude'] = 0  # Valor dummy\n",
        "    df_temp['longitude'] = 0 # Valor dummy\n",
        "    df_temp['population'] = df['population'].median() #valor retirado do dataframe original\n",
        "    df_temp['distance'] = df['distance'].median() #valor retirado do dataframe original\n",
        "    df_temp['continent_code'] = 1 # Valor dummy\n",
        "    df_temp['country_code'] = 1 # Valor dummy\n",
        "    df_temp['state/province'] = 1 # Valor dummy\n",
        "    df_temp['city/town'] = 1 # Valor dummy\n",
        "    df_temp['landslide_type'] = 1  # Valor dummy\n",
        "    df_temp['trigger'] = 1 # Valor dummy\n",
        "\n",
        "    # Converter as features para o tipo numérico e imputar valores faltantes\n",
        "    df_temp['precipitacao'] = pd.to_numeric(df_temp['precipitacao'], errors='coerce').fillna(0)\n",
        "    df_temp['umidade_solo'] = pd.to_numeric(df_temp['umidade_solo'], errors='coerce').fillna(0)\n",
        "    df_temp['inclinacao'] = pd.to_numeric(df_temp['inclinacao'], errors='coerce').fillna(0)\n",
        "\n",
        "\n",
        "    # Selecionar apenas as features que o modelo espera\n",
        "    X_novo = df_temp[['latitude', 'longitude', 'population', 'landslide_type', 'trigger', 'distance', 'continent_code', 'country_code', 'state/province', 'city/town', 'precipitacao', 'umidade_solo', 'inclinacao']]\n",
        "\n",
        "    # Escalar as features usando o mesmo scaler do treinamento\n",
        "    X_novo_escalado = scaler.transform(X_novo)\n",
        "\n",
        "    # Fazer a previsão\n",
        "    previsao = model.predict(X_novo_escalado)[0]\n",
        "\n",
        "    print(f\"Previsão do modelo: Tamanho do deslizamento = {previsao}\")\n",
        "\n",
        "    # Acionar alertas (simulado)\n",
        "    if previsao == 2:  # Alto Risco (dependendo do seu LabelEncoder)\n",
        "        print(\"ALERTA: Risco de deslizamento alto!\")"
      ],
      "metadata": {
        "id": "2kg_3Sp7kKdO"
      },
      "execution_count": null,
      "outputs": []
    },
    {
      "cell_type": "code",
      "source": [
        "def aplicar_cenario(row):\n",
        "    \"\"\"Aplica um cenário aleatório a cada linha do DataFrame (simulação).\"\"\"\n",
        "    cenarios = [\"Baixo Risco\", \"Médio Risco\", \"Alto Risco\"]\n",
        "    cenario_escolhido = random.choice(cenarios)\n",
        "    dados_sensores = gerar_dados_sensores(cenario_escolhido)\n",
        "    row['precipitacao'] = dados_sensores['precipitacao']\n",
        "    row['umidade_solo'] = dados_sensores['umidade_solo']\n",
        "    row['inclinacao'] = dados_sensores['inclinacao']\n",
        "    return row\n",
        "\n",
        "# Aplica a simulação a cada linha do DataFrame\n",
        "df = df.apply(aplicar_cenario, axis=1)\n",
        "\n",
        "# Definir features e alvo\n",
        "features = ['latitude', 'longitude', 'population', 'landslide_type', 'trigger', 'distance', 'continent_code', 'country_code', 'state/province', 'city/town', 'precipitacao', 'umidade_solo', 'inclinacao']\n",
        "\n",
        "alvo = 'landslide_size'\n",
        "\n",
        "# Dividir dados em treinamento e teste\n",
        "X = df[features]\n",
        "y = df[alvo]\n",
        "\n",
        "X_train, X_test, y_train, y_test = train_test_split(X, y, test_size=0.2, random_state=42)\n",
        "\n",
        "# Escalar as features\n",
        "scaler = StandardScaler()\n",
        "X_train = scaler.fit_transform(X_train)\n",
        "X_test = scaler.transform(X_test)\n",
        "\n",
        "# Criar modelo Random Forest\n",
        "model = RandomForestClassifier(n_estimators=100, random_state=42)\n",
        "\n",
        "# Treinar o modelo\n",
        "model.fit(X_train, y_train)\n",
        "\n",
        "# Simular o sistema IoT para diferentes cenários\n",
        "simular_gateway(\"Baixo Risco\")\n",
        "simular_gateway(\"Médio Risco\")\n",
        "simular_gateway(\"Alto Risco\")\n",
        "\n",
        "# Avaliar a acurácia do modelo\n",
        "accuracy = accuracy_score(y_test, y_pred)\n",
        "print(f\"Acurácia do modelo: {accuracy}\")\n",
        "\n",
        "# Exibir relatório de classificação\n",
        "print(classification_report(y_test, y_pred))"
      ],
      "metadata": {
        "colab": {
          "base_uri": "https://localhost:8080/"
        },
        "id": "2rK8zvBblrj1",
        "outputId": "1dd92f8c-d70a-46c9-97bb-4c4e623786d2"
      },
      "execution_count": null,
      "outputs": [
        {
          "output_type": "stream",
          "name": "stdout",
          "text": [
            "Dados recebidos do sensor: {'precipitacao': 4.264856671782954, 'umidade_solo': 0.2885847402302043, 'inclinacao': 7.6892066551633445}\n",
            "Previsão do modelo: Tamanho do deslizamento = 1\n",
            "Dados recebidos do sensor: {'precipitacao': 13.294645330392731, 'umidade_solo': 0.6114649415206362, 'inclinacao': 20.85402960809951}\n",
            "Previsão do modelo: Tamanho do deslizamento = 1\n",
            "Dados recebidos do sensor: {'precipitacao': 34.44689603742336, 'umidade_solo': 0.9210451354713831, 'inclinacao': 42.161406735567944}\n",
            "Previsão do modelo: Tamanho do deslizamento = 1\n",
            "Acurácia do modelo: 0.6194690265486725\n",
            "              precision    recall  f1-score   support\n",
            "\n",
            "           0       0.33      0.08      0.13        12\n",
            "           1       0.69      0.71      0.70       209\n",
            "           2       0.50      0.54      0.52       112\n",
            "           3       0.00      0.00      0.00         3\n",
            "           5       0.00      0.00      0.00         1\n",
            "           6       0.00      0.00      0.00         2\n",
            "\n",
            "    accuracy                           0.62       339\n",
            "   macro avg       0.25      0.22      0.23       339\n",
            "weighted avg       0.60      0.62      0.61       339\n",
            "\n"
          ]
        },
        {
          "output_type": "stream",
          "name": "stderr",
          "text": [
            "/usr/local/lib/python3.11/dist-packages/sklearn/metrics/_classification.py:1565: UndefinedMetricWarning: Precision is ill-defined and being set to 0.0 in labels with no predicted samples. Use `zero_division` parameter to control this behavior.\n",
            "  _warn_prf(average, modifier, f\"{metric.capitalize()} is\", len(result))\n",
            "/usr/local/lib/python3.11/dist-packages/sklearn/metrics/_classification.py:1565: UndefinedMetricWarning: Precision is ill-defined and being set to 0.0 in labels with no predicted samples. Use `zero_division` parameter to control this behavior.\n",
            "  _warn_prf(average, modifier, f\"{metric.capitalize()} is\", len(result))\n",
            "/usr/local/lib/python3.11/dist-packages/sklearn/metrics/_classification.py:1565: UndefinedMetricWarning: Precision is ill-defined and being set to 0.0 in labels with no predicted samples. Use `zero_division` parameter to control this behavior.\n",
            "  _warn_prf(average, modifier, f\"{metric.capitalize()} is\", len(result))\n"
          ]
        }
      ]
    }
  ]
}